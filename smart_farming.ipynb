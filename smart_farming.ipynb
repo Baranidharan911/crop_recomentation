{
  "cells": [
    {
      "cell_type": "markdown",
      "metadata": {
        "papermill": {
          "duration": 0.035132,
          "end_time": "2022-12-15T16:12:28.344463",
          "exception": false,
          "start_time": "2022-12-15T16:12:28.309331",
          "status": "completed"
        },
        "tags": [],
        "id": "lGpk2afSMtUn"
      },
      "source": [
        "# Importing libraries\n"
      ]
    },
    {
      "cell_type": "markdown",
      "metadata": {
        "papermill": {
          "duration": 0.03186,
          "end_time": "2022-12-15T16:12:28.410558",
          "exception": false,
          "start_time": "2022-12-15T16:12:28.378698",
          "status": "completed"
        },
        "tags": [],
        "id": "MNR8azrnMtUv"
      },
      "source": []
    },
    {
      "cell_type": "code",
      "execution_count": 1,
      "metadata": {
        "execution": {
          "iopub.execute_input": "2022-12-15T16:12:28.482059Z",
          "iopub.status.busy": "2022-12-15T16:12:28.480808Z",
          "iopub.status.idle": "2022-12-15T16:12:30.254079Z",
          "shell.execute_reply": "2022-12-15T16:12:30.253067Z",
          "shell.execute_reply.started": "2022-12-15T16:11:56.248826Z"
        },
        "papermill": {
          "duration": 1.810127,
          "end_time": "2022-12-15T16:12:30.254304",
          "exception": false,
          "start_time": "2022-12-15T16:12:28.444177",
          "status": "completed"
        },
        "tags": [],
        "id": "5c6821P_MtUx"
      },
      "outputs": [],
      "source": [
        "from __future__ import print_function\n",
        "import pickle\n",
        "import pandas as pd\n",
        "import numpy as np\n",
        "import matplotlib.pyplot as plt\n",
        "import seaborn as sns\n",
        "from sklearn.metrics import classification_report\n",
        "from sklearn import metrics\n",
        "from sklearn import tree\n",
        "import warnings\n",
        "from sklearn.model_selection import train_test_split\n",
        "from sklearn.tree import DecisionTreeClassifier\n",
        "from sklearn.naive_bayes import GaussianNB\n",
        "from sklearn.svm import SVC\n",
        "from sklearn.linear_model import LogisticRegression\n",
        "from sklearn.ensemble import RandomForestClassifier\n",
        "from sklearn.model_selection import cross_val_score\n",
        "warnings.filterwarnings('ignore')"
      ]
    },
    {
      "cell_type": "markdown",
      "metadata": {
        "papermill": {
          "duration": 0.03194,
          "end_time": "2022-12-15T16:12:30.319979",
          "exception": false,
          "start_time": "2022-12-15T16:12:30.288039",
          "status": "completed"
        },
        "tags": [],
        "id": "yCInP4JSMtU0"
      },
      "source": [
        "# Reading Data"
      ]
    },
    {
      "cell_type": "code",
      "execution_count": 2,
      "metadata": {
        "execution": {
          "iopub.execute_input": "2022-12-15T16:12:30.391170Z",
          "iopub.status.busy": "2022-12-15T16:12:30.390166Z",
          "iopub.status.idle": "2022-12-15T16:12:30.414583Z",
          "shell.execute_reply": "2022-12-15T16:12:30.415167Z",
          "shell.execute_reply.started": "2022-12-15T16:11:56.637866Z"
        },
        "papermill": {
          "duration": 0.060373,
          "end_time": "2022-12-15T16:12:30.415376",
          "exception": false,
          "start_time": "2022-12-15T16:12:30.355003",
          "status": "completed"
        },
        "tags": [],
        "id": "8zhItXnZMtU1"
      },
      "outputs": [],
      "source": [
        "PATH = '/content/Crop_recommendation.csv'\n",
        "df = pd.read_csv(PATH)"
      ]
    },
    {
      "cell_type": "markdown",
      "metadata": {
        "papermill": {
          "duration": 0.033304,
          "end_time": "2022-12-15T16:12:30.485171",
          "exception": false,
          "start_time": "2022-12-15T16:12:30.451867",
          "status": "completed"
        },
        "tags": [],
        "id": "E0env5n8MtU2"
      },
      "source": [
        "# Exploratory Data"
      ]
    },
    {
      "cell_type": "code",
      "execution_count": 3,
      "metadata": {
        "execution": {
          "iopub.execute_input": "2022-12-15T16:12:30.566603Z",
          "iopub.status.busy": "2022-12-15T16:12:30.565756Z",
          "iopub.status.idle": "2022-12-15T16:12:30.591980Z",
          "shell.execute_reply": "2022-12-15T16:12:30.592654Z",
          "shell.execute_reply.started": "2022-12-15T16:11:57.008284Z"
        },
        "papermill": {
          "duration": 0.075144,
          "end_time": "2022-12-15T16:12:30.592846",
          "exception": false,
          "start_time": "2022-12-15T16:12:30.517702",
          "status": "completed"
        },
        "tags": [],
        "colab": {
          "base_uri": "https://localhost:8080/",
          "height": 206
        },
        "id": "gxRy9Y3gMtU3",
        "outputId": "850dd9a9-3d75-41c9-b41f-9a4e4149b1ce"
      },
      "outputs": [
        {
          "output_type": "execute_result",
          "data": {
            "text/plain": [
              "    N   P   K  temperature   humidity        ph    rainfall label\n",
              "0  90  42  43    20.879744  82.002744  6.502985  202.935536  rice\n",
              "1  85  58  41    21.770462  80.319644  7.038096  226.655537  rice\n",
              "2  60  55  44    23.004459  82.320763  7.840207  263.964248  rice\n",
              "3  74  35  40    26.491096  80.158363  6.980401  242.864034  rice\n",
              "4  78  42  42    20.130175  81.604873  7.628473  262.717340  rice"
            ],
            "text/html": [
              "\n",
              "  <div id=\"df-2fe41924-9d9e-4dac-a21e-225849afec4b\">\n",
              "    <div class=\"colab-df-container\">\n",
              "      <div>\n",
              "<style scoped>\n",
              "    .dataframe tbody tr th:only-of-type {\n",
              "        vertical-align: middle;\n",
              "    }\n",
              "\n",
              "    .dataframe tbody tr th {\n",
              "        vertical-align: top;\n",
              "    }\n",
              "\n",
              "    .dataframe thead th {\n",
              "        text-align: right;\n",
              "    }\n",
              "</style>\n",
              "<table border=\"1\" class=\"dataframe\">\n",
              "  <thead>\n",
              "    <tr style=\"text-align: right;\">\n",
              "      <th></th>\n",
              "      <th>N</th>\n",
              "      <th>P</th>\n",
              "      <th>K</th>\n",
              "      <th>temperature</th>\n",
              "      <th>humidity</th>\n",
              "      <th>ph</th>\n",
              "      <th>rainfall</th>\n",
              "      <th>label</th>\n",
              "    </tr>\n",
              "  </thead>\n",
              "  <tbody>\n",
              "    <tr>\n",
              "      <th>0</th>\n",
              "      <td>90</td>\n",
              "      <td>42</td>\n",
              "      <td>43</td>\n",
              "      <td>20.879744</td>\n",
              "      <td>82.002744</td>\n",
              "      <td>6.502985</td>\n",
              "      <td>202.935536</td>\n",
              "      <td>rice</td>\n",
              "    </tr>\n",
              "    <tr>\n",
              "      <th>1</th>\n",
              "      <td>85</td>\n",
              "      <td>58</td>\n",
              "      <td>41</td>\n",
              "      <td>21.770462</td>\n",
              "      <td>80.319644</td>\n",
              "      <td>7.038096</td>\n",
              "      <td>226.655537</td>\n",
              "      <td>rice</td>\n",
              "    </tr>\n",
              "    <tr>\n",
              "      <th>2</th>\n",
              "      <td>60</td>\n",
              "      <td>55</td>\n",
              "      <td>44</td>\n",
              "      <td>23.004459</td>\n",
              "      <td>82.320763</td>\n",
              "      <td>7.840207</td>\n",
              "      <td>263.964248</td>\n",
              "      <td>rice</td>\n",
              "    </tr>\n",
              "    <tr>\n",
              "      <th>3</th>\n",
              "      <td>74</td>\n",
              "      <td>35</td>\n",
              "      <td>40</td>\n",
              "      <td>26.491096</td>\n",
              "      <td>80.158363</td>\n",
              "      <td>6.980401</td>\n",
              "      <td>242.864034</td>\n",
              "      <td>rice</td>\n",
              "    </tr>\n",
              "    <tr>\n",
              "      <th>4</th>\n",
              "      <td>78</td>\n",
              "      <td>42</td>\n",
              "      <td>42</td>\n",
              "      <td>20.130175</td>\n",
              "      <td>81.604873</td>\n",
              "      <td>7.628473</td>\n",
              "      <td>262.717340</td>\n",
              "      <td>rice</td>\n",
              "    </tr>\n",
              "  </tbody>\n",
              "</table>\n",
              "</div>\n",
              "      <button class=\"colab-df-convert\" onclick=\"convertToInteractive('df-2fe41924-9d9e-4dac-a21e-225849afec4b')\"\n",
              "              title=\"Convert this dataframe to an interactive table.\"\n",
              "              style=\"display:none;\">\n",
              "        \n",
              "  <svg xmlns=\"http://www.w3.org/2000/svg\" height=\"24px\"viewBox=\"0 0 24 24\"\n",
              "       width=\"24px\">\n",
              "    <path d=\"M0 0h24v24H0V0z\" fill=\"none\"/>\n",
              "    <path d=\"M18.56 5.44l.94 2.06.94-2.06 2.06-.94-2.06-.94-.94-2.06-.94 2.06-2.06.94zm-11 1L8.5 8.5l.94-2.06 2.06-.94-2.06-.94L8.5 2.5l-.94 2.06-2.06.94zm10 10l.94 2.06.94-2.06 2.06-.94-2.06-.94-.94-2.06-.94 2.06-2.06.94z\"/><path d=\"M17.41 7.96l-1.37-1.37c-.4-.4-.92-.59-1.43-.59-.52 0-1.04.2-1.43.59L10.3 9.45l-7.72 7.72c-.78.78-.78 2.05 0 2.83L4 21.41c.39.39.9.59 1.41.59.51 0 1.02-.2 1.41-.59l7.78-7.78 2.81-2.81c.8-.78.8-2.07 0-2.86zM5.41 20L4 18.59l7.72-7.72 1.47 1.35L5.41 20z\"/>\n",
              "  </svg>\n",
              "      </button>\n",
              "      \n",
              "  <style>\n",
              "    .colab-df-container {\n",
              "      display:flex;\n",
              "      flex-wrap:wrap;\n",
              "      gap: 12px;\n",
              "    }\n",
              "\n",
              "    .colab-df-convert {\n",
              "      background-color: #E8F0FE;\n",
              "      border: none;\n",
              "      border-radius: 50%;\n",
              "      cursor: pointer;\n",
              "      display: none;\n",
              "      fill: #1967D2;\n",
              "      height: 32px;\n",
              "      padding: 0 0 0 0;\n",
              "      width: 32px;\n",
              "    }\n",
              "\n",
              "    .colab-df-convert:hover {\n",
              "      background-color: #E2EBFA;\n",
              "      box-shadow: 0px 1px 2px rgba(60, 64, 67, 0.3), 0px 1px 3px 1px rgba(60, 64, 67, 0.15);\n",
              "      fill: #174EA6;\n",
              "    }\n",
              "\n",
              "    [theme=dark] .colab-df-convert {\n",
              "      background-color: #3B4455;\n",
              "      fill: #D2E3FC;\n",
              "    }\n",
              "\n",
              "    [theme=dark] .colab-df-convert:hover {\n",
              "      background-color: #434B5C;\n",
              "      box-shadow: 0px 1px 3px 1px rgba(0, 0, 0, 0.15);\n",
              "      filter: drop-shadow(0px 1px 2px rgba(0, 0, 0, 0.3));\n",
              "      fill: #FFFFFF;\n",
              "    }\n",
              "  </style>\n",
              "\n",
              "      <script>\n",
              "        const buttonEl =\n",
              "          document.querySelector('#df-2fe41924-9d9e-4dac-a21e-225849afec4b button.colab-df-convert');\n",
              "        buttonEl.style.display =\n",
              "          google.colab.kernel.accessAllowed ? 'block' : 'none';\n",
              "\n",
              "        async function convertToInteractive(key) {\n",
              "          const element = document.querySelector('#df-2fe41924-9d9e-4dac-a21e-225849afec4b');\n",
              "          const dataTable =\n",
              "            await google.colab.kernel.invokeFunction('convertToInteractive',\n",
              "                                                     [key], {});\n",
              "          if (!dataTable) return;\n",
              "\n",
              "          const docLinkHtml = 'Like what you see? Visit the ' +\n",
              "            '<a target=\"_blank\" href=https://colab.research.google.com/notebooks/data_table.ipynb>data table notebook</a>'\n",
              "            + ' to learn more about interactive tables.';\n",
              "          element.innerHTML = '';\n",
              "          dataTable['output_type'] = 'display_data';\n",
              "          await google.colab.output.renderOutput(dataTable, element);\n",
              "          const docLink = document.createElement('div');\n",
              "          docLink.innerHTML = docLinkHtml;\n",
              "          element.appendChild(docLink);\n",
              "        }\n",
              "      </script>\n",
              "    </div>\n",
              "  </div>\n",
              "  "
            ]
          },
          "metadata": {},
          "execution_count": 3
        }
      ],
      "source": [
        "df.head()"
      ]
    },
    {
      "cell_type": "code",
      "execution_count": 4,
      "metadata": {
        "execution": {
          "iopub.execute_input": "2022-12-15T16:12:30.664574Z",
          "iopub.status.busy": "2022-12-15T16:12:30.663439Z",
          "iopub.status.idle": "2022-12-15T16:12:30.669555Z",
          "shell.execute_reply": "2022-12-15T16:12:30.670034Z",
          "shell.execute_reply.started": "2022-12-15T16:11:57.685429Z"
        },
        "papermill": {
          "duration": 0.04454,
          "end_time": "2022-12-15T16:12:30.670223",
          "exception": false,
          "start_time": "2022-12-15T16:12:30.625683",
          "status": "completed"
        },
        "tags": [],
        "colab": {
          "base_uri": "https://localhost:8080/"
        },
        "id": "ZJyFj4cGMtU5",
        "outputId": "dabd4244-a7b1-49e4-9783-a53c764b03c6"
      },
      "outputs": [
        {
          "output_type": "execute_result",
          "data": {
            "text/plain": [
              "17600"
            ]
          },
          "metadata": {},
          "execution_count": 4
        }
      ],
      "source": [
        "df.size"
      ]
    },
    {
      "cell_type": "code",
      "execution_count": 5,
      "metadata": {
        "execution": {
          "iopub.execute_input": "2022-12-15T16:12:30.742491Z",
          "iopub.status.busy": "2022-12-15T16:12:30.741354Z",
          "iopub.status.idle": "2022-12-15T16:12:30.749249Z",
          "shell.execute_reply": "2022-12-15T16:12:30.748524Z",
          "shell.execute_reply.started": "2022-12-15T16:11:58.089019Z"
        },
        "papermill": {
          "duration": 0.046129,
          "end_time": "2022-12-15T16:12:30.749390",
          "exception": false,
          "start_time": "2022-12-15T16:12:30.703261",
          "status": "completed"
        },
        "tags": [],
        "colab": {
          "base_uri": "https://localhost:8080/"
        },
        "id": "l13WI1caMtU6",
        "outputId": "bcf90a72-e166-411d-c6f4-1f3663b0c3f5"
      },
      "outputs": [
        {
          "output_type": "execute_result",
          "data": {
            "text/plain": [
              "(2200, 8)"
            ]
          },
          "metadata": {},
          "execution_count": 5
        }
      ],
      "source": [
        "df.shape"
      ]
    },
    {
      "cell_type": "code",
      "execution_count": 6,
      "metadata": {
        "execution": {
          "iopub.execute_input": "2022-12-15T16:12:30.826192Z",
          "iopub.status.busy": "2022-12-15T16:12:30.825104Z",
          "iopub.status.idle": "2022-12-15T16:12:30.829869Z",
          "shell.execute_reply": "2022-12-15T16:12:30.830505Z",
          "shell.execute_reply.started": "2022-12-15T16:11:58.205172Z"
        },
        "papermill": {
          "duration": 0.04545,
          "end_time": "2022-12-15T16:12:30.830740",
          "exception": false,
          "start_time": "2022-12-15T16:12:30.785290",
          "status": "completed"
        },
        "tags": [],
        "colab": {
          "base_uri": "https://localhost:8080/"
        },
        "id": "Wih2UwdyMtU8",
        "outputId": "d5270227-a918-4a22-cb32-cfe3911958db"
      },
      "outputs": [
        {
          "output_type": "execute_result",
          "data": {
            "text/plain": [
              "Index(['N', 'P', 'K', 'temperature', 'humidity', 'ph', 'rainfall', 'label'], dtype='object')"
            ]
          },
          "metadata": {},
          "execution_count": 6
        }
      ],
      "source": [
        "df.columns"
      ]
    },
    {
      "cell_type": "code",
      "execution_count": 7,
      "metadata": {
        "execution": {
          "iopub.execute_input": "2022-12-15T16:12:30.911514Z",
          "iopub.status.busy": "2022-12-15T16:12:30.910741Z",
          "iopub.status.idle": "2022-12-15T16:12:30.915778Z",
          "shell.execute_reply": "2022-12-15T16:12:30.915040Z",
          "shell.execute_reply.started": "2022-12-15T16:11:58.219657Z"
        },
        "papermill": {
          "duration": 0.04605,
          "end_time": "2022-12-15T16:12:30.915919",
          "exception": false,
          "start_time": "2022-12-15T16:12:30.869869",
          "status": "completed"
        },
        "tags": [],
        "colab": {
          "base_uri": "https://localhost:8080/"
        },
        "id": "7-0ZEZQ6MtU9",
        "outputId": "f2903189-3459-4ffa-eda7-1baa96c7d650"
      },
      "outputs": [
        {
          "output_type": "execute_result",
          "data": {
            "text/plain": [
              "array(['rice', 'maize', 'chickpea', 'kidneybeans', 'pigeonpeas',\n",
              "       'mothbeans', 'mungbean', 'blackgram', 'lentil', 'pomegranate',\n",
              "       'banana', 'mango', 'grapes', 'watermelon', 'muskmelon', 'apple',\n",
              "       'orange', 'papaya', 'coconut', 'cotton', 'jute', 'coffee'],\n",
              "      dtype=object)"
            ]
          },
          "metadata": {},
          "execution_count": 7
        }
      ],
      "source": [
        "df['label'].unique()"
      ]
    },
    {
      "cell_type": "code",
      "execution_count": 8,
      "metadata": {
        "execution": {
          "iopub.execute_input": "2022-12-15T16:12:30.994857Z",
          "iopub.status.busy": "2022-12-15T16:12:30.993500Z",
          "iopub.status.idle": "2022-12-15T16:12:30.998931Z",
          "shell.execute_reply": "2022-12-15T16:12:30.998391Z",
          "shell.execute_reply.started": "2022-12-15T16:11:58.240940Z"
        },
        "papermill": {
          "duration": 0.04735,
          "end_time": "2022-12-15T16:12:30.999064",
          "exception": false,
          "start_time": "2022-12-15T16:12:30.951714",
          "status": "completed"
        },
        "tags": [],
        "colab": {
          "base_uri": "https://localhost:8080/"
        },
        "id": "cO_SlP1bMtU-",
        "outputId": "7db0ba6c-d583-4566-c5d7-7cfabd39c927"
      },
      "outputs": [
        {
          "output_type": "execute_result",
          "data": {
            "text/plain": [
              "N                int64\n",
              "P                int64\n",
              "K                int64\n",
              "temperature    float64\n",
              "humidity       float64\n",
              "ph             float64\n",
              "rainfall       float64\n",
              "label           object\n",
              "dtype: object"
            ]
          },
          "metadata": {},
          "execution_count": 8
        }
      ],
      "source": [
        "df.dtypes"
      ]
    },
    {
      "cell_type": "code",
      "execution_count": 9,
      "metadata": {
        "execution": {
          "iopub.execute_input": "2022-12-15T16:12:31.109594Z",
          "iopub.status.busy": "2022-12-15T16:12:31.108564Z",
          "iopub.status.idle": "2022-12-15T16:12:31.113727Z",
          "shell.execute_reply": "2022-12-15T16:12:31.112895Z",
          "shell.execute_reply.started": "2022-12-15T16:11:58.311829Z"
        },
        "papermill": {
          "duration": 0.069101,
          "end_time": "2022-12-15T16:12:31.113924",
          "exception": false,
          "start_time": "2022-12-15T16:12:31.044823",
          "status": "completed"
        },
        "tags": [],
        "colab": {
          "base_uri": "https://localhost:8080/"
        },
        "id": "7J0j-2CsMtU_",
        "outputId": "391c880b-5d9e-4ce8-ca59-e4fe3c2f41e3"
      },
      "outputs": [
        {
          "output_type": "execute_result",
          "data": {
            "text/plain": [
              "rice           100\n",
              "maize          100\n",
              "jute           100\n",
              "cotton         100\n",
              "coconut        100\n",
              "papaya         100\n",
              "orange         100\n",
              "apple          100\n",
              "muskmelon      100\n",
              "watermelon     100\n",
              "grapes         100\n",
              "mango          100\n",
              "banana         100\n",
              "pomegranate    100\n",
              "lentil         100\n",
              "blackgram      100\n",
              "mungbean       100\n",
              "mothbeans      100\n",
              "pigeonpeas     100\n",
              "kidneybeans    100\n",
              "chickpea       100\n",
              "coffee         100\n",
              "Name: label, dtype: int64"
            ]
          },
          "metadata": {},
          "execution_count": 9
        }
      ],
      "source": [
        "df['label'].value_counts()"
      ]
    },
    {
      "cell_type": "code",
      "execution_count": 10,
      "metadata": {
        "execution": {
          "iopub.execute_input": "2022-12-15T16:12:31.201528Z",
          "iopub.status.busy": "2022-12-15T16:12:31.200728Z",
          "iopub.status.idle": "2022-12-15T16:12:31.667951Z",
          "shell.execute_reply": "2022-12-15T16:12:31.667179Z",
          "shell.execute_reply.started": "2022-12-15T16:11:58.321902Z"
        },
        "papermill": {
          "duration": 0.513444,
          "end_time": "2022-12-15T16:12:31.668089",
          "exception": false,
          "start_time": "2022-12-15T16:12:31.154645",
          "status": "completed"
        },
        "tags": [],
        "colab": {
          "base_uri": "https://localhost:8080/",
          "height": 339
        },
        "id": "8KalO3LnMtVA",
        "outputId": "d3d63c22-4af9-43d4-a35c-c04a81dd2186"
      },
      "outputs": [
        {
          "output_type": "execute_result",
          "data": {
            "text/plain": [
              "<matplotlib.axes._subplots.AxesSubplot at 0x7f144e2f14c0>"
            ]
          },
          "metadata": {},
          "execution_count": 10
        },
        {
          "output_type": "display_data",
          "data": {
            "text/plain": [
              "<Figure size 432x288 with 2 Axes>"
            ],
            "image/png": "[encoded data removed]"
          },
          "metadata": {
            "needs_background": "light"
          }
        }
      ],
      "source": [
        "sns.heatmap(df.corr(),annot=True)"
      ]
    },
    {
      "cell_type": "markdown",
      "metadata": {
        "papermill": {
          "duration": 0.036082,
          "end_time": "2022-12-15T16:12:31.742716",
          "exception": false,
          "start_time": "2022-12-15T16:12:31.706634",
          "status": "completed"
        },
        "tags": [],
        "id": "jQEueo9_MtVA"
      },
      "source": [
        "### Seperating features and target label"
      ]
    },
    {
      "cell_type": "code",
      "execution_count": 11,
      "metadata": {
        "execution": {
          "iopub.execute_input": "2022-12-15T16:12:31.827870Z",
          "iopub.status.busy": "2022-12-15T16:12:31.826922Z",
          "iopub.status.idle": "2022-12-15T16:12:31.830060Z",
          "shell.execute_reply": "2022-12-15T16:12:31.829363Z",
          "shell.execute_reply.started": "2022-12-15T16:11:58.665369Z"
        },
        "papermill": {
          "duration": 0.048429,
          "end_time": "2022-12-15T16:12:31.830193",
          "exception": false,
          "start_time": "2022-12-15T16:12:31.781764",
          "status": "completed"
        },
        "tags": [],
        "id": "gv2wgZ3vMtVB"
      },
      "outputs": [],
      "source": [
        "features = df[['N', 'P','K','temperature', 'humidity', 'ph', 'rainfall']]\n",
        "target = df['label']\n",
        "labels = df['label']"
      ]
    },
    {
      "cell_type": "code",
      "execution_count": 12,
      "metadata": {
        "execution": {
          "iopub.execute_input": "2022-12-15T16:12:31.916740Z",
          "iopub.status.busy": "2022-12-15T16:12:31.915679Z",
          "iopub.status.idle": "2022-12-15T16:12:31.919591Z",
          "shell.execute_reply": "2022-12-15T16:12:31.918960Z",
          "shell.execute_reply.started": "2022-12-15T16:11:58.852651Z"
        },
        "papermill": {
          "duration": 0.048719,
          "end_time": "2022-12-15T16:12:31.919721",
          "exception": false,
          "start_time": "2022-12-15T16:12:31.871002",
          "status": "completed"
        },
        "tags": [],
        "id": "t55tINTQMtVC"
      },
      "outputs": [],
      "source": [
        "# Initializing empty lists to append all model's name and corresponding name\n",
        "acc = []\n",
        "model = []"
      ]
    },
    {
      "cell_type": "markdown",
      "metadata": {
        "papermill": {
          "duration": 0.039302,
          "end_time": "2022-12-15T16:12:31.995616",
          "exception": false,
          "start_time": "2022-12-15T16:12:31.956314",
          "status": "completed"
        },
        "tags": [],
        "id": "XwddMNtZMtVD"
      },
      "source": [
        "# Splitting into train and test data"
      ]
    },
    {
      "cell_type": "code",
      "execution_count": 13,
      "metadata": {
        "execution": {
          "iopub.execute_input": "2022-12-15T16:12:32.080262Z",
          "iopub.status.busy": "2022-12-15T16:12:32.079095Z",
          "iopub.status.idle": "2022-12-15T16:12:32.082874Z",
          "shell.execute_reply": "2022-12-15T16:12:32.082262Z",
          "shell.execute_reply.started": "2022-12-15T16:11:59.209505Z"
        },
        "papermill": {
          "duration": 0.048998,
          "end_time": "2022-12-15T16:12:32.083027",
          "exception": false,
          "start_time": "2022-12-15T16:12:32.034029",
          "status": "completed"
        },
        "tags": [],
        "id": "xI7IM_HGMtVE"
      },
      "outputs": [],
      "source": [
        "Xtrain, Xtest, Ytrain, Ytest = train_test_split(features,target,test_size = 0.2,random_state =2)"
      ]
    },
    {
      "cell_type": "markdown",
      "metadata": {
        "papermill": {
          "duration": 0.038752,
          "end_time": "2022-12-15T16:12:32.157823",
          "exception": false,
          "start_time": "2022-12-15T16:12:32.119071",
          "status": "completed"
        },
        "tags": [],
        "id": "gWRoVVw3MtVE"
      },
      "source": [
        "# Classification Algorithms:"
      ]
    },
    {
      "cell_type": "markdown",
      "metadata": {
        "papermill": {
          "duration": 0.037908,
          "end_time": "2022-12-15T16:12:32.234509",
          "exception": false,
          "start_time": "2022-12-15T16:12:32.196601",
          "status": "completed"
        },
        "tags": [],
        "id": "XYChXI8-MtVF"
      },
      "source": [
        "# Decision Tree"
      ]
    },
    {
      "cell_type": "code",
      "execution_count": 14,
      "metadata": {
        "execution": {
          "iopub.execute_input": "2022-12-15T16:12:32.314827Z",
          "iopub.status.busy": "2022-12-15T16:12:32.314035Z",
          "iopub.status.idle": "2022-12-15T16:12:32.370751Z",
          "shell.execute_reply": "2022-12-15T16:12:32.369679Z",
          "shell.execute_reply.started": "2022-12-15T16:11:59.758625Z"
        },
        "papermill": {
          "duration": 0.099026,
          "end_time": "2022-12-15T16:12:32.370938",
          "exception": false,
          "start_time": "2022-12-15T16:12:32.271912",
          "status": "completed"
        },
        "tags": [],
        "colab": {
          "base_uri": "https://localhost:8080/"
        },
        "id": "bB2tg1B3MtVG",
        "outputId": "9ba0d3a3-5a68-4e15-b516-ff0fbff5a779"
      },
      "outputs": [
        {
          "output_type": "stream",
          "name": "stdout",
          "text": [
            "DecisionTrees's Accuracy is:  90.0\n",
            "              precision    recall  f1-score   support\n",
            "\n",
            "       apple       1.00      1.00      1.00        13\n",
            "      banana       1.00      1.00      1.00        17\n",
            "   blackgram       0.59      1.00      0.74        16\n",
            "    chickpea       1.00      1.00      1.00        21\n",
            "     coconut       0.91      1.00      0.95        21\n",
            "      coffee       1.00      1.00      1.00        22\n",
            "      cotton       1.00      1.00      1.00        20\n",
            "      grapes       1.00      1.00      1.00        18\n",
            "        jute       0.74      0.93      0.83        28\n",
            " kidneybeans       0.00      0.00      0.00        14\n",
            "      lentil       0.68      1.00      0.81        23\n",
            "       maize       1.00      1.00      1.00        21\n",
            "       mango       1.00      1.00      1.00        26\n",
            "   mothbeans       0.00      0.00      0.00        19\n",
            "    mungbean       1.00      1.00      1.00        24\n",
            "   muskmelon       1.00      1.00      1.00        23\n",
            "      orange       1.00      1.00      1.00        29\n",
            "      papaya       1.00      0.84      0.91        19\n",
            "  pigeonpeas       0.62      1.00      0.77        18\n",
            " pomegranate       1.00      1.00      1.00        17\n",
            "        rice       1.00      0.62      0.77        16\n",
            "  watermelon       1.00      1.00      1.00        15\n",
            "\n",
            "    accuracy                           0.90       440\n",
            "   macro avg       0.84      0.88      0.85       440\n",
            "weighted avg       0.86      0.90      0.87       440\n",
            "\n"
          ]
        }
      ],
      "source": [
        "DecisionTree = DecisionTreeClassifier(criterion=\"entropy\",random_state=2,max_depth=5)\n",
        "DecisionTree.fit(Xtrain,Ytrain)\n",
        "predicted_values = DecisionTree.predict(Xtest)\n",
        "x = metrics.accuracy_score(Ytest, predicted_values)\n",
        "acc.append(x)\n",
        "model.append('Decision Tree')\n",
        "print(\"DecisionTrees's Accuracy is: \", x*100)\n",
        "print(classification_report(Ytest,predicted_values))"
      ]
    },
    {
      "cell_type": "code",
      "execution_count": 15,
      "metadata": {
        "execution": {
          "iopub.execute_input": "2022-12-15T16:12:32.454824Z",
          "iopub.status.busy": "2022-12-15T16:12:32.453896Z",
          "iopub.status.idle": "2022-12-15T16:12:32.610959Z",
          "shell.execute_reply": "2022-12-15T16:12:32.610378Z",
          "shell.execute_reply.started": "2022-12-15T16:11:59.930829Z"
        },
        "papermill": {
          "duration": 0.203412,
          "end_time": "2022-12-15T16:12:32.611100",
          "exception": false,
          "start_time": "2022-12-15T16:12:32.407688",
          "status": "completed"
        },
        "tags": [],
        "id": "Kp-ZuXpTMtVH"
      },
      "outputs": [],
      "source": [
        "# Cross validation score (Decision Tree)\n",
        "score = cross_val_score(DecisionTree, features, target,cv=5)"
      ]
    },
    {
      "cell_type": "code",
      "execution_count": 16,
      "metadata": {
        "execution": {
          "iopub.execute_input": "2022-12-15T16:12:32.692798Z",
          "iopub.status.busy": "2022-12-15T16:12:32.692059Z",
          "iopub.status.idle": "2022-12-15T16:12:32.696905Z",
          "shell.execute_reply": "2022-12-15T16:12:32.697531Z",
          "shell.execute_reply.started": "2022-12-15T16:12:00.113632Z"
        },
        "papermill": {
          "duration": 0.048046,
          "end_time": "2022-12-15T16:12:32.697727",
          "exception": false,
          "start_time": "2022-12-15T16:12:32.649681",
          "status": "completed"
        },
        "tags": [],
        "colab": {
          "base_uri": "https://localhost:8080/"
        },
        "id": "JRxaTD3_MtVI",
        "outputId": "7354d865-cd4a-4bd3-be5b-4b9db86c9471"
      },
      "outputs": [
        {
          "output_type": "execute_result",
          "data": {
            "text/plain": [
              "array([0.93636364, 0.90909091, 0.91818182, 0.87045455, 0.93636364])"
            ]
          },
          "metadata": {},
          "execution_count": 16
        }
      ],
      "source": [
        "score"
      ]
    },
    {
      "cell_type": "markdown",
      "metadata": {
        "papermill": {
          "duration": 0.037173,
          "end_time": "2022-12-15T16:12:32.772787",
          "exception": false,
          "start_time": "2022-12-15T16:12:32.735614",
          "status": "completed"
        },
        "tags": [],
        "id": "vr624_sjMtVI"
      },
      "source": [
        "### Saving trained Decision Tree model"
      ]
    },
    {
      "cell_type": "code",
      "execution_count": 17,
      "metadata": {
        "execution": {
          "iopub.execute_input": "2022-12-15T16:12:32.855409Z",
          "iopub.status.busy": "2022-12-15T16:12:32.854475Z",
          "iopub.status.idle": "2022-12-15T16:12:32.857064Z",
          "shell.execute_reply": "2022-12-15T16:12:32.857733Z",
          "shell.execute_reply.started": "2022-12-15T16:12:00.489877Z"
        },
        "papermill": {
          "duration": 0.04843,
          "end_time": "2022-12-15T16:12:32.857902",
          "exception": false,
          "start_time": "2022-12-15T16:12:32.809472",
          "status": "completed"
        },
        "tags": [],
        "id": "SKXkC0bKMtVJ"
      },
      "outputs": [],
      "source": [
        "# Dump the trained Naive Bayes classifier with Pickle\n",
        "DT_pkl_filename = 'DecisionTree.pkl'\n",
        "# Open the file to save as pkl file\n",
        "DT_Model_pkl = open(DT_pkl_filename, 'wb')\n",
        "pickle.dump(DecisionTree, DT_Model_pkl)\n",
        "# Close the pickle instances\n",
        "DT_Model_pkl.close()"
      ]
    },
    {
      "cell_type": "markdown",
      "metadata": {
        "papermill": {
          "duration": 0.037474,
          "end_time": "2022-12-15T16:12:32.931740",
          "exception": false,
          "start_time": "2022-12-15T16:12:32.894266",
          "status": "completed"
        },
        "tags": [],
        "id": "hD6qR-UeMtVK"
      },
      "source": [
        "# Guassian Naive Bayes"
      ]
    },
    {
      "cell_type": "code",
      "execution_count": 18,
      "metadata": {
        "execution": {
          "iopub.execute_input": "2022-12-15T16:12:33.024962Z",
          "iopub.status.busy": "2022-12-15T16:12:33.024233Z",
          "iopub.status.idle": "2022-12-15T16:12:33.049583Z",
          "shell.execute_reply": "2022-12-15T16:12:33.048825Z",
          "shell.execute_reply.started": "2022-12-15T16:12:00.867634Z"
        },
        "papermill": {
          "duration": 0.076898,
          "end_time": "2022-12-15T16:12:33.049718",
          "exception": false,
          "start_time": "2022-12-15T16:12:32.972820",
          "status": "completed"
        },
        "tags": [],
        "colab": {
          "base_uri": "https://localhost:8080/"
        },
        "id": "sxilvSV8MtVK",
        "outputId": "cfce84a1-be78-460e-c8af-a868fdf56ada"
      },
      "outputs": [
        {
          "output_type": "stream",
          "name": "stdout",
          "text": [
            "Naive Bayes's Accuracy is:  0.990909090909091\n",
            "              precision    recall  f1-score   support\n",
            "\n",
            "       apple       1.00      1.00      1.00        13\n",
            "      banana       1.00      1.00      1.00        17\n",
            "   blackgram       1.00      1.00      1.00        16\n",
            "    chickpea       1.00      1.00      1.00        21\n",
            "     coconut       1.00      1.00      1.00        21\n",
            "      coffee       1.00      1.00      1.00        22\n",
            "      cotton       1.00      1.00      1.00        20\n",
            "      grapes       1.00      1.00      1.00        18\n",
            "        jute       0.88      1.00      0.93        28\n",
            " kidneybeans       1.00      1.00      1.00        14\n",
            "      lentil       1.00      1.00      1.00        23\n",
            "       maize       1.00      1.00      1.00        21\n",
            "       mango       1.00      1.00      1.00        26\n",
            "   mothbeans       1.00      1.00      1.00        19\n",
            "    mungbean       1.00      1.00      1.00        24\n",
            "   muskmelon       1.00      1.00      1.00        23\n",
            "      orange       1.00      1.00      1.00        29\n",
            "      papaya       1.00      1.00      1.00        19\n",
            "  pigeonpeas       1.00      1.00      1.00        18\n",
            " pomegranate       1.00      1.00      1.00        17\n",
            "        rice       1.00      0.75      0.86        16\n",
            "  watermelon       1.00      1.00      1.00        15\n",
            "\n",
            "    accuracy                           0.99       440\n",
            "   macro avg       0.99      0.99      0.99       440\n",
            "weighted avg       0.99      0.99      0.99       440\n",
            "\n"
          ]
        }
      ],
      "source": [
        "NaiveBayes = GaussianNB()\n",
        "NaiveBayes.fit(Xtrain,Ytrain)\n",
        "predicted_values = NaiveBayes.predict(Xtest)\n",
        "x = metrics.accuracy_score(Ytest, predicted_values)\n",
        "acc.append(x)\n",
        "model.append('Naive Bayes')\n",
        "print(\"Naive Bayes's Accuracy is: \", x)\n",
        "print(classification_report(Ytest,predicted_values))"
      ]
    },
    {
      "cell_type": "code",
      "execution_count": 19,
      "metadata": {
        "execution": {
          "iopub.execute_input": "2022-12-15T16:12:33.133099Z",
          "iopub.status.busy": "2022-12-15T16:12:33.132362Z",
          "iopub.status.idle": "2022-12-15T16:12:33.197058Z",
          "shell.execute_reply": "2022-12-15T16:12:33.196385Z",
          "shell.execute_reply.started": "2022-12-15T16:12:01.054784Z"
        },
        "papermill": {
          "duration": 0.110112,
          "end_time": "2022-12-15T16:12:33.197196",
          "exception": false,
          "start_time": "2022-12-15T16:12:33.087084",
          "status": "completed"
        },
        "tags": [],
        "colab": {
          "base_uri": "https://localhost:8080/"
        },
        "id": "VH3xmtN5MtVL",
        "outputId": "9352f96d-a074-442e-dd0e-6d2990b03e99"
      },
      "outputs": [
        {
          "output_type": "execute_result",
          "data": {
            "text/plain": [
              "array([0.99772727, 0.99545455, 0.99545455, 0.99545455, 0.99090909])"
            ]
          },
          "metadata": {},
          "execution_count": 19
        }
      ],
      "source": [
        "# Cross validation score (NaiveBayes)\n",
        "score = cross_val_score(NaiveBayes,features,target,cv=5)\n",
        "score"
      ]
    },
    {
      "cell_type": "markdown",
      "metadata": {
        "papermill": {
          "duration": 0.039254,
          "end_time": "2022-12-15T16:12:33.274073",
          "exception": false,
          "start_time": "2022-12-15T16:12:33.234819",
          "status": "completed"
        },
        "tags": [],
        "id": "-RyLOY6RMtVO"
      },
      "source": [
        "### Saving trained Guassian Naive Bayes model"
      ]
    },
    {
      "cell_type": "code",
      "execution_count": 20,
      "metadata": {
        "execution": {
          "iopub.execute_input": "2022-12-15T16:12:33.358040Z",
          "iopub.status.busy": "2022-12-15T16:12:33.357297Z",
          "iopub.status.idle": "2022-12-15T16:12:33.361552Z",
          "shell.execute_reply": "2022-12-15T16:12:33.360895Z",
          "shell.execute_reply.started": "2022-12-15T16:12:01.443678Z"
        },
        "papermill": {
          "duration": 0.049093,
          "end_time": "2022-12-15T16:12:33.361690",
          "exception": false,
          "start_time": "2022-12-15T16:12:33.312597",
          "status": "completed"
        },
        "tags": [],
        "id": "NYx5DWQRMtVP"
      },
      "outputs": [],
      "source": [
        "# Dump the trained Naive Bayes classifier with Pickle\n",
        "NB_pkl_filename = 'NBClassifier.pkl'\n",
        "# Open the file to save as pkl file\n",
        "NB_Model_pkl = open(NB_pkl_filename, 'wb')\n",
        "pickle.dump(NaiveBayes, NB_Model_pkl)\n",
        "# Close the pickle instances\n",
        "NB_Model_pkl.close()"
      ]
    },
    {
      "cell_type": "markdown",
      "metadata": {
        "papermill": {
          "duration": 0.037349,
          "end_time": "2022-12-15T16:12:33.439326",
          "exception": false,
          "start_time": "2022-12-15T16:12:33.401977",
          "status": "completed"
        },
        "tags": [],
        "id": "cyV2FQHuMtVQ"
      },
      "source": [
        "# Support Vector Machine (SVM)"
      ]
    },
    {
      "cell_type": "code",
      "execution_count": 21,
      "metadata": {
        "execution": {
          "iopub.execute_input": "2022-12-15T16:12:33.526398Z",
          "iopub.status.busy": "2022-12-15T16:12:33.525685Z",
          "iopub.status.idle": "2022-12-15T16:12:33.947728Z",
          "shell.execute_reply": "2022-12-15T16:12:33.948426Z",
          "shell.execute_reply.started": "2022-12-15T16:12:01.822807Z"
        },
        "papermill": {
          "duration": 0.470711,
          "end_time": "2022-12-15T16:12:33.948652",
          "exception": false,
          "start_time": "2022-12-15T16:12:33.477941",
          "status": "completed"
        },
        "tags": [],
        "colab": {
          "base_uri": "https://localhost:8080/"
        },
        "id": "cnt_vt6YMtVR",
        "outputId": "2f70588f-8364-4676-d317-7229d10e137f"
      },
      "outputs": [
        {
          "output_type": "stream",
          "name": "stdout",
          "text": [
            "SVM's Accuracy is:  0.10681818181818181\n",
            "              precision    recall  f1-score   support\n",
            "\n",
            "       apple       1.00      0.23      0.38        13\n",
            "      banana       1.00      0.24      0.38        17\n",
            "   blackgram       1.00      0.19      0.32        16\n",
            "    chickpea       1.00      0.05      0.09        21\n",
            "     coconut       1.00      0.05      0.09        21\n",
            "      coffee       0.00      0.00      0.00        22\n",
            "      cotton       1.00      0.05      0.10        20\n",
            "      grapes       1.00      0.06      0.11        18\n",
            "        jute       1.00      0.07      0.13        28\n",
            " kidneybeans       0.03      1.00      0.07        14\n",
            "      lentil       0.00      0.00      0.00        23\n",
            "       maize       0.00      0.00      0.00        21\n",
            "       mango       0.00      0.00      0.00        26\n",
            "   mothbeans       0.00      0.00      0.00        19\n",
            "    mungbean       1.00      0.12      0.22        24\n",
            "   muskmelon       1.00      0.30      0.47        23\n",
            "      orange       1.00      0.03      0.07        29\n",
            "      papaya       1.00      0.05      0.10        19\n",
            "  pigeonpeas       0.00      0.00      0.00        18\n",
            " pomegranate       1.00      0.12      0.21        17\n",
            "        rice       0.50      0.06      0.11        16\n",
            "  watermelon       1.00      0.13      0.24        15\n",
            "\n",
            "    accuracy                           0.11       440\n",
            "   macro avg       0.66      0.13      0.14       440\n",
            "weighted avg       0.66      0.11      0.13       440\n",
            "\n"
          ]
        }
      ],
      "source": [
        "\n",
        "\n",
        "SVM = SVC(gamma='auto')\n",
        "\n",
        "SVM.fit(Xtrain,Ytrain)\n",
        "\n",
        "predicted_values = SVM.predict(Xtest)\n",
        "\n",
        "x = metrics.accuracy_score(Ytest, predicted_values)\n",
        "acc.append(x)\n",
        "model.append('SVM')\n",
        "print(\"SVM's Accuracy is: \", x)\n",
        "\n",
        "print(classification_report(Ytest,predicted_values))"
      ]
    },
    {
      "cell_type": "code",
      "execution_count": 22,
      "metadata": {
        "execution": {
          "iopub.execute_input": "2022-12-15T16:12:34.040441Z",
          "iopub.status.busy": "2022-12-15T16:12:34.038670Z",
          "iopub.status.idle": "2022-12-15T16:12:35.961698Z",
          "shell.execute_reply": "2022-12-15T16:12:35.960906Z",
          "shell.execute_reply.started": "2022-12-15T16:12:02.179567Z"
        },
        "papermill": {
          "duration": 1.973678,
          "end_time": "2022-12-15T16:12:35.961843",
          "exception": false,
          "start_time": "2022-12-15T16:12:33.988165",
          "status": "completed"
        },
        "tags": [],
        "colab": {
          "base_uri": "https://localhost:8080/"
        },
        "id": "U2rS8FRnMtVS",
        "outputId": "54c3a922-a5e0-4816-e46d-3bbc88ff96ae"
      },
      "outputs": [
        {
          "output_type": "execute_result",
          "data": {
            "text/plain": [
              "array([0.27727273, 0.28863636, 0.29090909, 0.275     , 0.26818182])"
            ]
          },
          "metadata": {},
          "execution_count": 22
        }
      ],
      "source": [
        "# Cross validation score (SVM)\n",
        "score = cross_val_score(SVM,features,target,cv=5)\n",
        "score"
      ]
    },
    {
      "cell_type": "markdown",
      "metadata": {
        "papermill": {
          "duration": 0.039035,
          "end_time": "2022-12-15T16:12:36.041086",
          "exception": false,
          "start_time": "2022-12-15T16:12:36.002051",
          "status": "completed"
        },
        "tags": [],
        "id": "6u3LqYPIMtVT"
      },
      "source": [
        "# Logistic Regression"
      ]
    },
    {
      "cell_type": "code",
      "execution_count": 23,
      "metadata": {
        "execution": {
          "iopub.execute_input": "2022-12-15T16:12:36.136324Z",
          "iopub.status.busy": "2022-12-15T16:12:36.135602Z",
          "iopub.status.idle": "2022-12-15T16:12:36.455169Z",
          "shell.execute_reply": "2022-12-15T16:12:36.454510Z",
          "shell.execute_reply.started": "2022-12-15T16:12:03.772635Z"
        },
        "papermill": {
          "duration": 0.376445,
          "end_time": "2022-12-15T16:12:36.455344",
          "exception": false,
          "start_time": "2022-12-15T16:12:36.078899",
          "status": "completed"
        },
        "tags": [],
        "colab": {
          "base_uri": "https://localhost:8080/"
        },
        "id": "7mmAfo6xMtVT",
        "outputId": "14c0373c-3ef2-4eac-b5af-d2a31c37c9f9"
      },
      "outputs": [
        {
          "output_type": "stream",
          "name": "stdout",
          "text": [
            "Logistic Regression's Accuracy is:  0.9522727272727273\n",
            "              precision    recall  f1-score   support\n",
            "\n",
            "       apple       1.00      1.00      1.00        13\n",
            "      banana       1.00      1.00      1.00        17\n",
            "   blackgram       0.86      0.75      0.80        16\n",
            "    chickpea       1.00      1.00      1.00        21\n",
            "     coconut       1.00      1.00      1.00        21\n",
            "      coffee       1.00      1.00      1.00        22\n",
            "      cotton       0.86      0.90      0.88        20\n",
            "      grapes       1.00      1.00      1.00        18\n",
            "        jute       0.84      0.93      0.88        28\n",
            " kidneybeans       1.00      1.00      1.00        14\n",
            "      lentil       0.88      1.00      0.94        23\n",
            "       maize       0.90      0.86      0.88        21\n",
            "       mango       0.96      1.00      0.98        26\n",
            "   mothbeans       0.84      0.84      0.84        19\n",
            "    mungbean       1.00      0.96      0.98        24\n",
            "   muskmelon       1.00      1.00      1.00        23\n",
            "      orange       1.00      1.00      1.00        29\n",
            "      papaya       1.00      0.95      0.97        19\n",
            "  pigeonpeas       1.00      1.00      1.00        18\n",
            " pomegranate       1.00      1.00      1.00        17\n",
            "        rice       0.85      0.69      0.76        16\n",
            "  watermelon       1.00      1.00      1.00        15\n",
            "\n",
            "    accuracy                           0.95       440\n",
            "   macro avg       0.95      0.95      0.95       440\n",
            "weighted avg       0.95      0.95      0.95       440\n",
            "\n"
          ]
        }
      ],
      "source": [
        "\n",
        "\n",
        "LogReg = LogisticRegression(random_state=2)\n",
        "\n",
        "LogReg.fit(Xtrain,Ytrain)\n",
        "\n",
        "predicted_values = LogReg.predict(Xtest)\n",
        "\n",
        "x = metrics.accuracy_score(Ytest, predicted_values)\n",
        "acc.append(x)\n",
        "model.append('Logistic Regression')\n",
        "print(\"Logistic Regression's Accuracy is: \", x)\n",
        "\n",
        "print(classification_report(Ytest,predicted_values))"
      ]
    },
    {
      "cell_type": "code",
      "execution_count": 24,
      "metadata": {
        "execution": {
          "iopub.execute_input": "2022-12-15T16:12:36.549110Z",
          "iopub.status.busy": "2022-12-15T16:12:36.548026Z",
          "iopub.status.idle": "2022-12-15T16:12:38.221023Z",
          "shell.execute_reply": "2022-12-15T16:12:38.221764Z",
          "shell.execute_reply.started": "2022-12-15T16:12:04.061394Z"
        },
        "papermill": {
          "duration": 1.723473,
          "end_time": "2022-12-15T16:12:38.221951",
          "exception": false,
          "start_time": "2022-12-15T16:12:36.498478",
          "status": "completed"
        },
        "tags": [],
        "colab": {
          "base_uri": "https://localhost:8080/"
        },
        "id": "Bb-YbhbMMtVU",
        "outputId": "3ea201c0-c27d-451c-f96a-a14c6759b39f"
      },
      "outputs": [
        {
          "output_type": "execute_result",
          "data": {
            "text/plain": [
              "array([0.95      , 0.96590909, 0.94772727, 0.96818182, 0.94318182])"
            ]
          },
          "metadata": {},
          "execution_count": 24
        }
      ],
      "source": [
        "# Cross validation score (Logistic Regression)\n",
        "score = cross_val_score(LogReg,features,target,cv=5)\n",
        "score"
      ]
    },
    {
      "cell_type": "markdown",
      "metadata": {
        "papermill": {
          "duration": 0.043287,
          "end_time": "2022-12-15T16:12:38.317345",
          "exception": false,
          "start_time": "2022-12-15T16:12:38.274058",
          "status": "completed"
        },
        "tags": [],
        "id": "hfOFc_78MtVV"
      },
      "source": [
        "### Saving trained Logistic Regression model"
      ]
    },
    {
      "cell_type": "code",
      "execution_count": 25,
      "metadata": {
        "execution": {
          "iopub.execute_input": "2022-12-15T16:12:38.409816Z",
          "iopub.status.busy": "2022-12-15T16:12:38.408964Z",
          "iopub.status.idle": "2022-12-15T16:12:38.413255Z",
          "shell.execute_reply": "2022-12-15T16:12:38.412601Z",
          "shell.execute_reply.started": "2022-12-15T16:12:05.398584Z"
        },
        "papermill": {
          "duration": 0.054917,
          "end_time": "2022-12-15T16:12:38.413519",
          "exception": false,
          "start_time": "2022-12-15T16:12:38.358602",
          "status": "completed"
        },
        "tags": [],
        "id": "oV2Sv1pJMtVV"
      },
      "outputs": [],
      "source": [
        "# Dump the trained Naive Bayes classifier with Pickle\n",
        "LR_pkl_filename = 'LogisticRegression.pkl'\n",
        "# Open the file to save as pkl file\n",
        "LR_Model_pkl = open(DT_pkl_filename, 'wb')\n",
        "pickle.dump(LogReg, LR_Model_pkl)\n",
        "# Close the pickle instances\n",
        "LR_Model_pkl.close()"
      ]
    },
    {
      "cell_type": "markdown",
      "metadata": {
        "papermill": {
          "duration": 0.039183,
          "end_time": "2022-12-15T16:12:38.493951",
          "exception": false,
          "start_time": "2022-12-15T16:12:38.454768",
          "status": "completed"
        },
        "tags": [],
        "id": "L2s_R2VwMtVW"
      },
      "source": [
        "# Random Forest"
      ]
    },
    {
      "cell_type": "code",
      "execution_count": 26,
      "metadata": {
        "execution": {
          "iopub.execute_input": "2022-12-15T16:12:38.587025Z",
          "iopub.status.busy": "2022-12-15T16:12:38.585947Z",
          "iopub.status.idle": "2022-12-15T16:12:38.732221Z",
          "shell.execute_reply": "2022-12-15T16:12:38.731473Z",
          "shell.execute_reply.started": "2022-12-15T16:12:05.407928Z"
        },
        "papermill": {
          "duration": 0.19546,
          "end_time": "2022-12-15T16:12:38.732406",
          "exception": false,
          "start_time": "2022-12-15T16:12:38.536946",
          "status": "completed"
        },
        "tags": [],
        "colab": {
          "base_uri": "https://localhost:8080/"
        },
        "id": "tkPZIWFBMtVX",
        "outputId": "e05a000a-1184-431e-b8a1-e97705e9892f"
      },
      "outputs": [
        {
          "output_type": "stream",
          "name": "stdout",
          "text": [
            "RF's Accuracy is:  0.990909090909091\n",
            "              precision    recall  f1-score   support\n",
            "\n",
            "       apple       1.00      1.00      1.00        13\n",
            "      banana       1.00      1.00      1.00        17\n",
            "   blackgram       0.94      1.00      0.97        16\n",
            "    chickpea       1.00      1.00      1.00        21\n",
            "     coconut       1.00      1.00      1.00        21\n",
            "      coffee       1.00      1.00      1.00        22\n",
            "      cotton       1.00      1.00      1.00        20\n",
            "      grapes       1.00      1.00      1.00        18\n",
            "        jute       0.90      1.00      0.95        28\n",
            " kidneybeans       1.00      1.00      1.00        14\n",
            "      lentil       1.00      1.00      1.00        23\n",
            "       maize       1.00      1.00      1.00        21\n",
            "       mango       1.00      1.00      1.00        26\n",
            "   mothbeans       1.00      0.95      0.97        19\n",
            "    mungbean       1.00      1.00      1.00        24\n",
            "   muskmelon       1.00      1.00      1.00        23\n",
            "      orange       1.00      1.00      1.00        29\n",
            "      papaya       1.00      1.00      1.00        19\n",
            "  pigeonpeas       1.00      1.00      1.00        18\n",
            " pomegranate       1.00      1.00      1.00        17\n",
            "        rice       1.00      0.81      0.90        16\n",
            "  watermelon       1.00      1.00      1.00        15\n",
            "\n",
            "    accuracy                           0.99       440\n",
            "   macro avg       0.99      0.99      0.99       440\n",
            "weighted avg       0.99      0.99      0.99       440\n",
            "\n"
          ]
        }
      ],
      "source": [
        "\n",
        "RF = RandomForestClassifier(n_estimators=20, random_state=0)\n",
        "RF.fit(Xtrain,Ytrain)\n",
        "\n",
        "predicted_values = RF.predict(Xtest)\n",
        "\n",
        "x = metrics.accuracy_score(Ytest, predicted_values)\n",
        "acc.append(x)\n",
        "model.append('RF')\n",
        "print(\"RF's Accuracy is: \", x)\n",
        "\n",
        "print(classification_report(Ytest,predicted_values))"
      ]
    },
    {
      "cell_type": "code",
      "execution_count": 27,
      "metadata": {
        "execution": {
          "iopub.execute_input": "2022-12-15T16:12:38.829948Z",
          "iopub.status.busy": "2022-12-15T16:12:38.828772Z",
          "iopub.status.idle": "2022-12-15T16:12:39.356072Z",
          "shell.execute_reply": "2022-12-15T16:12:39.356681Z",
          "shell.execute_reply.started": "2022-12-15T16:12:05.508867Z"
        },
        "papermill": {
          "duration": 0.579075,
          "end_time": "2022-12-15T16:12:39.356878",
          "exception": false,
          "start_time": "2022-12-15T16:12:38.777803",
          "status": "completed"
        },
        "tags": [],
        "colab": {
          "base_uri": "https://localhost:8080/"
        },
        "id": "1JFV7mq9MtVY",
        "outputId": "afa9896a-2777-449f-a08a-a8014af74053"
      },
      "outputs": [
        {
          "output_type": "execute_result",
          "data": {
            "text/plain": [
              "array([0.99772727, 0.99545455, 0.99772727, 0.99318182, 0.98863636])"
            ]
          },
          "metadata": {},
          "execution_count": 27
        }
      ],
      "source": [
        "# Cross validation score (Random Forest)\n",
        "score = cross_val_score(RF,features,target,cv=5)\n",
        "score"
      ]
    },
    {
      "cell_type": "markdown",
      "metadata": {
        "papermill": {
          "duration": 0.038936,
          "end_time": "2022-12-15T16:12:39.437812",
          "exception": false,
          "start_time": "2022-12-15T16:12:39.398876",
          "status": "completed"
        },
        "tags": [],
        "id": "mTVeXmmpMtVZ"
      },
      "source": [
        "### Saving trained Random Forest model"
      ]
    },
    {
      "cell_type": "code",
      "execution_count": 28,
      "metadata": {
        "execution": {
          "iopub.execute_input": "2022-12-15T16:12:39.532160Z",
          "iopub.status.busy": "2022-12-15T16:12:39.529083Z",
          "iopub.status.idle": "2022-12-15T16:12:39.539042Z",
          "shell.execute_reply": "2022-12-15T16:12:39.537889Z",
          "shell.execute_reply.started": "2022-12-15T16:12:05.888804Z"
        },
        "papermill": {
          "duration": 0.059378,
          "end_time": "2022-12-15T16:12:39.539247",
          "exception": false,
          "start_time": "2022-12-15T16:12:39.479869",
          "status": "completed"
        },
        "tags": [],
        "id": "DsWuG_43MtVa"
      },
      "outputs": [],
      "source": [
        "\n",
        "# Dump the trained Naive Bayes classifier with Pickle\n",
        "RF_pkl_filename = 'RandomForest.pkl'\n",
        "# Open the file to save as pkl file\n",
        "RF_Model_pkl = open(RF_pkl_filename, 'wb')\n",
        "pickle.dump(RF, RF_Model_pkl)\n",
        "# Close the pickle instances\n",
        "RF_Model_pkl.close()"
      ]
    },
    {
      "cell_type": "markdown",
      "metadata": {
        "papermill": {
          "duration": 0.043377,
          "end_time": "2022-12-15T16:12:39.628276",
          "exception": false,
          "start_time": "2022-12-15T16:12:39.584899",
          "status": "completed"
        },
        "tags": [],
        "id": "amL39Z1gMtVb"
      },
      "source": [
        "## Accuracy Comparison"
      ]
    },
    {
      "cell_type": "code",
      "execution_count": 29,
      "metadata": {
        "execution": {
          "iopub.execute_input": "2022-12-15T16:12:39.735050Z",
          "iopub.status.busy": "2022-12-15T16:12:39.734330Z",
          "iopub.status.idle": "2022-12-15T16:12:39.937386Z",
          "shell.execute_reply": "2022-12-15T16:12:39.936135Z",
          "shell.execute_reply.started": "2022-12-15T16:12:05.900638Z"
        },
        "papermill": {
          "duration": 0.259559,
          "end_time": "2022-12-15T16:12:39.937549",
          "exception": false,
          "start_time": "2022-12-15T16:12:39.677990",
          "status": "completed"
        },
        "tags": [],
        "colab": {
          "base_uri": "https://localhost:8080/",
          "height": 450
        },
        "id": "UdEUfFFcMtVc",
        "outputId": "828587a8-8b76-4bba-e471-f9069b695dbc"
      },
      "outputs": [
        {
          "output_type": "execute_result",
          "data": {
            "text/plain": [
              "<matplotlib.axes._subplots.AxesSubplot at 0x7f144e240820>"
            ]
          },
          "metadata": {},
          "execution_count": 29
        },
        {
          "output_type": "display_data",
          "data": {
            "text/plain": [
              "<Figure size 1000x500 with 1 Axes>"
            ],
            "image/png": "[encoded data removed]"
          },
          "metadata": {
            "needs_background": "light"
          }
        }
      ],
      "source": [
        "plt.figure(figsize=[10,5],dpi = 100)\n",
        "plt.title('Accuracy Comparison')\n",
        "plt.xlabel('Accuracy')\n",
        "plt.ylabel('Algorithm')\n",
        "sns.barplot(x = acc,y = model,palette='dark')"
      ]
    },
    {
      "cell_type": "code",
      "execution_count": 30,
      "metadata": {
        "execution": {
          "iopub.execute_input": "2022-12-15T16:12:40.029125Z",
          "iopub.status.busy": "2022-12-15T16:12:40.028100Z",
          "iopub.status.idle": "2022-12-15T16:12:40.031667Z",
          "shell.execute_reply": "2022-12-15T16:12:40.032467Z",
          "shell.execute_reply.started": "2022-12-15T16:12:06.049336Z"
        },
        "papermill": {
          "duration": 0.05129,
          "end_time": "2022-12-15T16:12:40.032688",
          "exception": false,
          "start_time": "2022-12-15T16:12:39.981398",
          "status": "completed"
        },
        "tags": [],
        "colab": {
          "base_uri": "https://localhost:8080/"
        },
        "id": "KplnOaXuMtVd",
        "outputId": "205ae8ff-973c-4093-bed1-56658080b480"
      },
      "outputs": [
        {
          "output_type": "stream",
          "name": "stdout",
          "text": [
            "Decision Tree --> 0.9\n",
            "Naive Bayes --> 0.990909090909091\n",
            "SVM --> 0.10681818181818181\n",
            "Logistic Regression --> 0.9522727272727273\n",
            "RF --> 0.990909090909091\n"
          ]
        }
      ],
      "source": [
        "accuracy_models = dict(zip(model, acc))\n",
        "for k, v in accuracy_models.items():\n",
        "    print (k, '-->', v)"
      ]
    },
    {
      "cell_type": "markdown",
      "metadata": {
        "papermill": {
          "duration": 0.040315,
          "end_time": "2022-12-15T16:12:40.119855",
          "exception": false,
          "start_time": "2022-12-15T16:12:40.079540",
          "status": "completed"
        },
        "tags": [],
        "id": "VZF5tym7MtVe"
      },
      "source": [
        "## Making a prediction"
      ]
    },
    {
      "cell_type": "code",
      "execution_count": 31,
      "metadata": {
        "execution": {
          "iopub.execute_input": "2022-12-15T16:12:40.215123Z",
          "iopub.status.busy": "2022-12-15T16:12:40.214249Z",
          "iopub.status.idle": "2022-12-15T16:12:40.219117Z",
          "shell.execute_reply": "2022-12-15T16:12:40.218524Z",
          "shell.execute_reply.started": "2022-12-15T16:12:06.058323Z"
        },
        "papermill": {
          "duration": 0.056887,
          "end_time": "2022-12-15T16:12:40.219263",
          "exception": false,
          "start_time": "2022-12-15T16:12:40.162376",
          "status": "completed"
        },
        "tags": [],
        "colab": {
          "base_uri": "https://localhost:8080/"
        },
        "id": "vjAYUMCIMtVf",
        "outputId": "76099c76-30c9-4142-eb0f-de7674d38228"
      },
      "outputs": [
        {
          "output_type": "stream",
          "name": "stdout",
          "text": [
            "['jute']\n"
          ]
        }
      ],
      "source": [
        "data = np.array([[83, 45, 60, 28, 70.3, 7.0, 150.9]])\n",
        "prediction = RF.predict(data)\n",
        "print(prediction)"
      ]
    },
    {
      "cell_type": "code",
      "execution_count": 32,
      "metadata": {
        "execution": {
          "iopub.execute_input": "2022-12-15T16:12:40.316283Z",
          "iopub.status.busy": "2022-12-15T16:12:40.314970Z",
          "iopub.status.idle": "2022-12-15T16:12:40.322034Z",
          "shell.execute_reply": "2022-12-15T16:12:40.320834Z",
          "shell.execute_reply.started": "2022-12-15T16:12:06.072263Z"
        },
        "papermill": {
          "duration": 0.057606,
          "end_time": "2022-12-15T16:12:40.322310",
          "exception": false,
          "start_time": "2022-12-15T16:12:40.264704",
          "status": "completed"
        },
        "tags": [],
        "colab": {
          "base_uri": "https://localhost:8080/"
        },
        "id": "JYGQ4FR0MtVg",
        "outputId": "989f4887-8e7f-44aa-96b2-bba2949a16c7"
      },
      "outputs": [
        {
          "output_type": "stream",
          "name": "stdout",
          "text": [
            "['jute']\n"
          ]
        }
      ],
      "source": [
        "data = np.array([[83, 45, 60, 28, 70.3, 7.0, 150.9]])\n",
        "prediction = LogReg.predict(data)\n",
        "print(prediction)"
      ]
    },
    {
      "cell_type": "code",
      "execution_count": 33,
      "metadata": {
        "execution": {
          "iopub.execute_input": "2022-12-15T16:12:40.424093Z",
          "iopub.status.busy": "2022-12-15T16:12:40.423215Z",
          "iopub.status.idle": "2022-12-15T16:12:40.426587Z",
          "shell.execute_reply": "2022-12-15T16:12:40.427140Z",
          "shell.execute_reply.started": "2022-12-15T16:12:06.087488Z"
        },
        "papermill": {
          "duration": 0.058614,
          "end_time": "2022-12-15T16:12:40.427326",
          "exception": false,
          "start_time": "2022-12-15T16:12:40.368712",
          "status": "completed"
        },
        "tags": [],
        "colab": {
          "base_uri": "https://localhost:8080/"
        },
        "id": "hoTZwOWbMtVh",
        "outputId": "db7dc28c-5e6d-4379-ca9d-7920c71f7cb8"
      },
      "outputs": [
        {
          "output_type": "stream",
          "name": "stdout",
          "text": [
            "['kidneybeans']\n"
          ]
        }
      ],
      "source": [
        "data = np.array([[83, 45, 60, 28, 70.3, 7.0, 150.9]])\n",
        "prediction = SVM.predict(data)\n",
        "print(prediction)"
      ]
    },
    {
      "cell_type": "code",
      "execution_count": 34,
      "metadata": {
        "execution": {
          "iopub.execute_input": "2022-12-15T16:12:40.536401Z",
          "iopub.status.busy": "2022-12-15T16:12:40.534968Z",
          "iopub.status.idle": "2022-12-15T16:12:40.539408Z",
          "shell.execute_reply": "2022-12-15T16:12:40.540834Z",
          "shell.execute_reply.started": "2022-12-15T16:12:06.103387Z"
        },
        "papermill": {
          "duration": 0.063435,
          "end_time": "2022-12-15T16:12:40.541143",
          "exception": false,
          "start_time": "2022-12-15T16:12:40.477708",
          "status": "completed"
        },
        "tags": [],
        "colab": {
          "base_uri": "https://localhost:8080/"
        },
        "id": "AlHUYNGaMtVi",
        "outputId": "713bdab8-54e4-4fb3-99df-92c367c4035e"
      },
      "outputs": [
        {
          "output_type": "stream",
          "name": "stdout",
          "text": [
            "['jute']\n"
          ]
        }
      ],
      "source": [
        "data = np.array([[83, 45, 60, 28, 70.3, 7.0, 150.9]])\n",
        "prediction = NaiveBayes.predict(data)\n",
        "print(prediction)"
      ]
    },
    {
      "cell_type": "code",
      "execution_count": 35,
      "metadata": {
        "execution": {
          "iopub.execute_input": "2022-12-15T16:12:40.652100Z",
          "iopub.status.busy": "2022-12-15T16:12:40.651370Z",
          "iopub.status.idle": "2022-12-15T16:12:40.661265Z",
          "shell.execute_reply": "2022-12-15T16:12:40.660351Z",
          "shell.execute_reply.started": "2022-12-15T16:12:06.115688Z"
        },
        "papermill": {
          "duration": 0.063793,
          "end_time": "2022-12-15T16:12:40.661445",
          "exception": false,
          "start_time": "2022-12-15T16:12:40.597652",
          "status": "completed"
        },
        "tags": [],
        "colab": {
          "base_uri": "https://localhost:8080/"
        },
        "id": "JvCE-WDBMtVi",
        "outputId": "61759afd-1a42-47bc-b7b3-19aa7a97fa8b"
      },
      "outputs": [
        {
          "output_type": "stream",
          "name": "stdout",
          "text": [
            "['jute']\n"
          ]
        }
      ],
      "source": [
        "data = np.array([[83, 45, 60, 28, 70.3, 7.0, 150.9]])\n",
        "prediction = DecisionTree.predict(data)\n",
        "print(prediction)"
      ]
    },
    {
      "cell_type": "code",
      "execution_count": 35,
      "metadata": {
        "papermill": {
          "duration": 0.044173,
          "end_time": "2022-12-15T16:12:40.757920",
          "exception": false,
          "start_time": "2022-12-15T16:12:40.713747",
          "status": "completed"
        },
        "tags": [],
        "id": "1JHuKy2rMtVj"
      },
      "outputs": [],
      "source": []
    },
    {
      "cell_type": "code",
      "execution_count": 35,
      "metadata": {
        "papermill": {
          "duration": 0.042456,
          "end_time": "2022-12-15T16:12:40.846714",
          "exception": false,
          "start_time": "2022-12-15T16:12:40.804258",
          "status": "completed"
        },
        "tags": [],
        "id": "taGSJT5XMtVj"
      },
      "outputs": [],
      "source": []
    }
  ],
  "metadata": {
    "kernelspec": {
      "display_name": "Python 3",
      "language": "python",
      "name": "python3"
    },
    "language_info": {
      "codemirror_mode": {
        "name": "ipython",
        "version": 3
      },
      "file_extension": ".py",
      "mimetype": "text/x-python",
      "name": "python",
      "nbconvert_exporter": "python",
      "pygments_lexer": "ipython3",
      "version": "3.7.6"
    },
    "papermill": {
      "duration": 19.141376,
      "end_time": "2022-12-15T16:12:41.955187",
      "environment_variables": {},
      "exception": null,
      "input_path": "__notebook__.ipynb",
      "output_path": "__notebook__.ipynb",
      "parameters": {},
      "start_time": "2022-12-15T16:12:22.813811",
      "version": "2.1.0"
    },
    "colab": {
      "provenance": []
    }
  },
  "nbformat": 4,
  "nbformat_minor": 0
}